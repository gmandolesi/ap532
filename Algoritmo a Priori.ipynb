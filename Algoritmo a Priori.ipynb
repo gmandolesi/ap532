{
 "cells": [
  {
   "cell_type": "markdown",
   "metadata": {},
   "source": [
    "## Importação de Bibliotecas"
   ]
  },
  {
   "cell_type": "code",
   "execution_count": 2,
   "metadata": {
    "collapsed": true
   },
   "outputs": [],
   "source": [
    "import numpy as np"
   ]
  },
  {
   "cell_type": "markdown",
   "metadata": {},
   "source": [
    "## Definição de Funções"
   ]
  },
  {
   "cell_type": "code",
   "execution_count": 3,
   "metadata": {
    "collapsed": true
   },
   "outputs": [],
   "source": [
    "def suporte(lista_in):\n",
    "    ''' lista_in é uma matriz de entrada de tamanho m x n, com valor máximo de v\n",
    "    lista_out é uma matriz de saída de tamanho 1 x v com o suporte do v-ésimo elemento\n",
    "    '''\n",
    "    \n",
    "    # Valor maximo da lista\n",
    "    lista_max = lista_in.flat[lista_in.argmax()]\n",
    "    \n",
    "    # funcao suporte\n",
    "    lista_out = np.eye(lista_max+1)[lista_in].sum(axis=1)[:,1:].sum(axis=0)/len(lista_in)\n",
    "    \n",
    "    return lista_out"
   ]
  },
  {
   "cell_type": "markdown",
   "metadata": {},
   "source": [
    "## Processamento da Lista"
   ]
  },
  {
   "cell_type": "code",
   "execution_count": 8,
   "metadata": {},
   "outputs": [
    {
     "name": "stdout",
     "output_type": "stream",
     "text": [
      "Lista de Entrada:\n",
      " [[1 3 4 2]\n",
      " [2 5 6 7]\n",
      " [1 2 7 8]\n",
      " [4 5 6 7]]\n",
      "\n",
      "Suporte da Lista:\n",
      " [ 0.5   0.75  0.25  0.5   0.5   0.5   0.75  0.25]\n"
     ]
    }
   ],
   "source": [
    "lista = np.array([[1,3,4,2],\n",
    "                  [2,5,6,7],\n",
    "                  [1,2,7,8],\n",
    "                  [4,5,6,7]])\n",
    "\n",
    "print('Lista de Entrada:\\n', lista)\n",
    "\n",
    "# codificar nomes -> números\n",
    "# ajusta lista\n",
    "\n",
    "suporte_lista = suporte(lista)\n",
    "\n",
    "print('\\nSuporte da Lista:\\n', suporte_lista)"
   ]
  },
  {
   "cell_type": "markdown",
   "metadata": {
    "collapsed": true
   },
   "source": [
    "## Encontrar Regras"
   ]
  },
  {
   "cell_type": "code",
   "execution_count": null,
   "metadata": {
    "collapsed": true
   },
   "outputs": [],
   "source": []
  }
 ],
 "metadata": {
  "kernelspec": {
   "display_name": "Python 3",
   "language": "python",
   "name": "python3"
  },
  "language_info": {
   "codemirror_mode": {
    "name": "ipython",
    "version": 3
   },
   "file_extension": ".py",
   "mimetype": "text/x-python",
   "name": "python",
   "nbconvert_exporter": "python",
   "pygments_lexer": "ipython3",
   "version": "3.6.1"
  }
 },
 "nbformat": 4,
 "nbformat_minor": 2
}
