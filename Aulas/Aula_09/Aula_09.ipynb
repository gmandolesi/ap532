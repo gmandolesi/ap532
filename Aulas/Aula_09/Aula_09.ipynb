{
 "cells": [
  {
   "cell_type": "markdown",
   "metadata": {},
   "source": [
    "## Exemplo 1"
   ]
  },
  {
   "cell_type": "code",
   "execution_count": 36,
   "metadata": {},
   "outputs": [
    {
     "name": "stdout",
     "output_type": "stream",
     "text": [
      "10.392304845413264 50.00999900019995 20.12461179749811\n"
     ]
    }
   ],
   "source": [
    "from math import pow, sqrt\n",
    "\n",
    "at = [[5,1,90],[2,3,150], [1,4,120], [3,3,100]]\n",
    "\n",
    "at_1 = at[0]\n",
    "at_2 = at[1]\n",
    "at_3 = at[2]\n",
    "\n",
    "at_novo = at[3]\n",
    "\n",
    "dist_1 = 0;\n",
    "dist_2 = 0;\n",
    "dist_3 = 0;\n",
    "for i in range(3):\n",
    "    dist_1 += pow(at_novo[i]-at_1[i],2)\n",
    "    dist_2 += pow(at_novo[i]-at_2[i],2)\n",
    "    dist_3 += pow(at_novo[i]-at_3[i],2)\n",
    "dist_1 = sqrt(dist_1)\n",
    "dist_2 = sqrt(dist_2)\n",
    "dist_3 = sqrt(dist_3)\n",
    "\n",
    "print (dist_1,dist_2,dist_3)"
   ]
  },
  {
   "cell_type": "code",
   "execution_count": null,
   "metadata": {
    "collapsed": true
   },
   "outputs": [],
   "source": [
    "from math import pow, sqrt\n",
    "\n",
    "at = [[5,1,90],[2,3,150], [1,4,120], [3,3,100]]\n",
    "print(at[2][1])\n",
    "\n",
    "at[3][0]\n",
    "\n",
    "dist=[[0, 0, 0]]\n",
    "\n",
    "for i in range(3):\n",
    "    dist[0] += pow(at[3][i]-at[0][i],2)\n",
    "    dist[1] += pow(at[3][i]-at[1][i],2)\n",
    "    dist[2] += pow(at[3][i]-at[2][i],2)\n",
    "dist[0] = sqrt(dist[0])\n",
    "dist[1] = sqrt(dist[1])\n",
    "dist[2] = sqrt(dist[2])\n",
    "\n",
    "print (dist[0],dist[1],dist[2])"
   ]
  },
  {
   "cell_type": "markdown",
   "metadata": {},
   "source": [
    "Os atributos não contribuem igualmente, os atributos de maior range, contribuem mais.\n",
    "Por isso, normalizamos os dados no início."
   ]
  },
  {
   "cell_type": "markdown",
   "metadata": {},
   "source": [
    "### Normalização"
   ]
  },
  {
   "cell_type": "code",
   "execution_count": null,
   "metadata": {
    "collapsed": true
   },
   "outputs": [],
   "source": []
  }
 ],
 "metadata": {
  "kernelspec": {
   "display_name": "Python 3",
   "language": "python",
   "name": "python3"
  },
  "language_info": {
   "codemirror_mode": {
    "name": "ipython",
    "version": 3
   },
   "file_extension": ".py",
   "mimetype": "text/x-python",
   "name": "python",
   "nbconvert_exporter": "python",
   "pygments_lexer": "ipython3",
   "version": "3.6.1"
  }
 },
 "nbformat": 4,
 "nbformat_minor": 2
}
