{
 "cells": [
  {
   "cell_type": "code",
   "execution_count": 42,
   "metadata": {
    "collapsed": true
   },
   "outputs": [],
   "source": [
    "import numpy as np\n",
    "import scipy"
   ]
  },
  {
   "cell_type": "markdown",
   "metadata": {},
   "source": [
    "## Variáveis Numéricas"
   ]
  },
  {
   "cell_type": "markdown",
   "metadata": {},
   "source": [
    "### Normalização"
   ]
  },
  {
   "cell_type": "markdown",
   "metadata": {},
   "source": [
    "#### Min-Max"
   ]
  },
  {
   "cell_type": "code",
   "execution_count": 10,
   "metadata": {},
   "outputs": [
    {
     "data": {
      "text/plain": [
       "array([ 0.  ,  0.25,  0.5 ,  0.75,  1.  ])"
      ]
     },
     "execution_count": 10,
     "metadata": {},
     "output_type": "execute_result"
    }
   ],
   "source": [
    "a = np.array([0, 1, 2, 3, 4])\n",
    "a_norm = (a-a.min())/(a.max()-a.min())\n",
    "a_norm"
   ]
  },
  {
   "cell_type": "markdown",
   "metadata": {},
   "source": [
    "#### Z-score"
   ]
  },
  {
   "cell_type": "code",
   "execution_count": 18,
   "metadata": {},
   "outputs": [
    {
     "name": "stdout",
     "output_type": "stream",
     "text": [
      "[-1.41421356 -0.70710678  0.          0.70710678  1.41421356]\n",
      "[-1.41421356 -0.70710678  0.          0.70710678  1.41421356]\n",
      "0.0\n",
      "1.0\n"
     ]
    }
   ],
   "source": [
    "#usando scipy\n",
    "from scipy import stats\n",
    "a_zscore = stats.zscore(a)\n",
    "print(a_zscore)\n",
    "\n",
    "#usando numpy\n",
    "a_zscore2 = (a - a.mean())/a.std()\n",
    "print(a_zscore2)\n",
    "\n",
    "# este método garante que a média vai ser zero e a variância, um.\n",
    "print(a_zscore.mean())\n",
    "print(a_zscore.var())"
   ]
  },
  {
   "cell_type": "markdown",
   "metadata": {},
   "source": [
    "Distância Euclidiana: menor distância entre dois pontos\n",
    "\n",
    "Distância de Manhattan: soma da variação em x com a variação em y (forma um triângulo com a distância euclidiana)\n",
    "\n",
    "Quando há variação apenas em um dos eixos (reta vertical ou horizontal), as duas distâncias são as mesmas"
   ]
  },
  {
   "cell_type": "markdown",
   "metadata": {},
   "source": [
    "### Distâncias"
   ]
  },
  {
   "cell_type": "markdown",
   "metadata": {},
   "source": [
    "#### Exercício 2\n",
    "\n",
    "Dados P = (-1,3, -2); Q = (-4,5,-2); R = (4, -1, 0); S = (7,0,1)\n",
    "\n",
    "a) Achar o centróide dos pontos P,Q,R,S\n",
    "b) Distância Euclidiana e de Manhattan de PQ, RS, QS"
   ]
  },
  {
   "cell_type": "code",
   "execution_count": 46,
   "metadata": {},
   "outputs": [
    {
     "name": "stdout",
     "output_type": "stream",
     "text": [
      "3.60555127546\n",
      "3.31662479036\n",
      "12.449899598\n",
      "5\n",
      "5\n",
      "19\n"
     ]
    }
   ],
   "source": [
    "P = np.array([-1,3,-2])\n",
    "Q = np.array([-4,5,-2])\n",
    "R = np.array([4,-1,0])\n",
    "S = np.array([7,0,1])\n",
    "\n",
    "# item a\n",
    "centroide = np.array([(P[0]+Q[0]+R[0]+S[0])/4, (P[1]+Q[1]+R[1]+S[1])/4, (P[2]+Q[2]+R[2]+S[2])/4])\n",
    "centroide\n",
    "\n",
    "# item b\n",
    "\n",
    "np.mod(P[1],1000)\n",
    "\n",
    "euclidiana_PQ = np.linalg.norm(P-Q)\n",
    "print(euclidiana_PQ)\n",
    "\n",
    "euclidiana_RS = np.linalg.norm(R-S)\n",
    "print(euclidiana_RS)\n",
    "\n",
    "euclidiana_QS = np.linalg.norm(Q-S)\n",
    "print(euclidiana_QS)\n",
    "\n",
    "\n",
    "manhattan_PQ = scipy.spatial.distance.cityblock(P,Q)\n",
    "print(manhattan_PQ)\n",
    "\n",
    "\n",
    "manhattan_RS = scipy.spatial.distance.cityblock(R,S)\n",
    "print(manhattan_RS)\n",
    "\n",
    "\n",
    "manhattan_QS = scipy.spatial.distance.cityblock(Q,S)\n",
    "print(manhattan_QS)"
   ]
  },
  {
   "cell_type": "markdown",
   "metadata": {},
   "source": [
    "Observa-se que a distância de Manhattan é sempre maior (ou igual) que a Euclidiana"
   ]
  },
  {
   "cell_type": "markdown",
   "metadata": {},
   "source": [
    "## Variáveis binárias"
   ]
  },
  {
   "cell_type": "code",
   "execution_count": null,
   "metadata": {
    "collapsed": true
   },
   "outputs": [],
   "source": []
  }
 ],
 "metadata": {
  "kernelspec": {
   "display_name": "Python 3",
   "language": "python",
   "name": "python3"
  },
  "language_info": {
   "codemirror_mode": {
    "name": "ipython",
    "version": 3
   },
   "file_extension": ".py",
   "mimetype": "text/x-python",
   "name": "python",
   "nbconvert_exporter": "python",
   "pygments_lexer": "ipython3",
   "version": "3.6.1"
  }
 },
 "nbformat": 4,
 "nbformat_minor": 2
}
